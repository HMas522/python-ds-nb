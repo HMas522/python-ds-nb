{
 "cells": [
  {
   "cell_type": "markdown",
   "metadata": {},
   "source": [
    "### Web Mining and Applied NLP (44-620)\n",
    "\n",
    "### Student Name: Hayley Massey\n",
    "\n",
    "### Question 10 \n",
    "Create a new Jupyter Notebook (the name of the notebook should be your S number). Add a Markdown cell that contains your name. Add a Code cell and write Python that uses loops to draw the following pattern"
   ]
  },
  {
   "cell_type": "code",
   "execution_count": 2,
   "metadata": {},
   "outputs": [
    {
     "name": "stdout",
     "output_type": "stream",
     "text": [
      "*      *\n",
      "**    **\n",
      "***  ***\n",
      "********\n"
     ]
    }
   ],
   "source": [
    "# Define the height of the pattern\n",
    "#If x is not a number or if base is given, then x must be a string,\n",
    "#bytes, or bytearray instance representing an integer literal in the\n",
    "#given base. The literal can be preceded by '+' or '-' and be surrounded by whitespace.\n",
    "\n",
    "height = 4\n",
    "\n",
    "# Loop through each row\n",
    "for row in range(1, height + 1):\n",
    "    # Print left half *\n",
    "    for col in range(row):\n",
    "        print('*', end='')\n",
    "    # Print white spaces in the middle\n",
    "    for space in range(2 * (height - row)):\n",
    "        print(' ', end='')\n",
    "    # Print right half of *\n",
    "    for col in range(row):\n",
    "        print('*', end='')\n",
    "    \n",
    "    print()"
   ]
  }
 ],
 "metadata": {
  "kernelspec": {
   "display_name": "Python 3",
   "language": "python",
   "name": "python3"
  },
  "language_info": {
   "codemirror_mode": {
    "name": "ipython",
    "version": 3
   },
   "file_extension": ".py",
   "mimetype": "text/x-python",
   "name": "python",
   "nbconvert_exporter": "python",
   "pygments_lexer": "ipython3",
   "version": "3.11.3"
  }
 },
 "nbformat": 4,
 "nbformat_minor": 2
}
