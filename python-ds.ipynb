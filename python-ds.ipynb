{
 "cells": [
  {
   "cell_type": "markdown",
   "metadata": {},
   "source": [
    "# Web Mining and Applied NLP (44-620)\n",
    "\n",
    "## Python Notebooks, Basics, and Data Structures\n",
    "\n",
    "### Student Name: Hayley Massey\n",
    "\n",
    "Perform the tasks described in the Markdown cells below.  When you have completed the assignment make sure your code cells have all been run (and have output beneath them) and ensure you have committed and pushed ALL of your changes to your assignment repository.\n",
    "\n",
    "Every question that requires you to write code will have a code cell underneath it; you may either write your entire solution in that cell or write it in a python file (`.py`), then import and run the appropriate code to answer the question.\n",
    "\n",
    "Do not use external modules (`math`, etc) for this assignment unless you are explicitly instructed to, though you may use built in python functions (`min`, `max`, etc) as you wish."
   ]
  },
  {
   "cell_type": "markdown",
   "metadata": {},
   "source": [
    "1. Modify the Markdown cell above to put your name after \"Student Name:\"; you will be expected to do this in all assignments presented in this format for this class."
   ]
  },
  {
   "cell_type": "markdown",
   "metadata": {},
   "source": [
    "2. Write code that divides any two numbers, stores the result in a variable, and prints the result with an appropriate label."
   ]
  },
  {
   "cell_type": "code",
   "execution_count": 8,
   "metadata": {},
   "outputs": [
    {
     "name": "stdout",
     "output_type": "stream",
     "text": [
      "The division of 20 / 4 is 5.0\n"
     ]
    }
   ],
   "source": [
    "result = 20/4\n",
    "print('The division of 20 / 4 is', result)"
   ]
  },
  {
   "cell_type": "markdown",
   "metadata": {},
   "source": [
    "3. Using loops (and potentially conditionals), write Python code that prints the factorial of each integer from 1 through 10 (which you can store in a variable if you want). The factorial of an integer is the product of all of the integers of 1 through the number. Print the result with an appropriate label."
   ]
  },
  {
   "cell_type": "code",
   "execution_count": 9,
   "metadata": {},
   "outputs": [
    {
     "name": "stdout",
     "output_type": "stream",
     "text": [
      "The factorial of 1 is: 1\n",
      "The factorial of 2 is: 2\n",
      "The factorial of 3 is: 6\n",
      "The factorial of 4 is: 24\n",
      "The factorial of 5 is: 120\n",
      "The factorial of 6 is: 720\n",
      "The factorial of 7 is: 5040\n",
      "The factorial of 8 is: 40320\n",
      "The factorial of 9 is: 362880\n",
      "The factorial of 10 is: 3628800\n"
     ]
    }
   ],
   "source": [
    "# Use def fx & math formula for factorials\n",
    "def factorial(n) :\n",
    "    if n == 0 : return 1\n",
    "    else :  return factorial(n-1) * n\n",
    "\n",
    "# Loop through each integer from 1 through 10\n",
    "for int in range(1, 11):\n",
    "    # Calculate factorial using predefined math fx and print the result\n",
    "    print(f\"The factorial of {int} is: {factorial(int)}\")\n"
   ]
  },
  {
   "cell_type": "markdown",
   "metadata": {},
   "source": [
    "4. Write a python function that takes a single parameter and calculates and returns the average (mean) of the values in the parameter (which you may assume is iterable).  Show that your function works by printing the result of calling the function on the list in the cell below."
   ]
  },
  {
   "cell_type": "code",
   "execution_count": 26,
   "metadata": {},
   "outputs": [
    {
     "name": "stdout",
     "output_type": "stream",
     "text": [
      "The average of the testlist is: 0.0\n"
     ]
    }
   ],
   "source": [
    "testlist = [1,-1,2,-2,3,-3,4,-4]\n",
    "\n",
    "# Use def average & use sum/list to achieve average\n",
    "def average(values):\n",
    "    return sum(values) / len(values)\n",
    "\n",
    "# Test the function with the provided list\n",
    "average = average(testlist)\n",
    "\n",
    "# Print the result\n",
    "print(f\"The average of the testlist is: {average}\")"
   ]
  },
  {
   "cell_type": "markdown",
   "metadata": {},
   "source": [
    "5. Using your mean function above, write a function that calculates the variance of the list of numbers (see https://en.wikipedia.org/wiki/Variance for more information on the formula). In short:\n",
    "* subtract the mean of the elements in the list from every element in the list; store these values in a new list\n",
    "* square every element in the new list and sum the elements together\n",
    "* divide the resulting number by N (where N is the length of the original list)\n",
    "\n",
    "Show the result of calling your function in the lists in the code cell. You must use one or more list comprehensions or map/filter in your code.\n"
   ]
  },
  {
   "cell_type": "code",
   "execution_count": 27,
   "metadata": {},
   "outputs": [
    {
     "name": "stdout",
     "output_type": "stream",
     "text": [
      "The variance of list1 is: 1.13973309\n",
      "The variance of list2 is: 0.9257232841\n"
     ]
    }
   ],
   "source": [
    "list1 = [ 5.670e-1, -1.480e+0, -5.570e-1, -1.470e+0, 7.340e-1, 1.050e+0, 4.480e-1, 2.570e-1, -1.970e+0, -1.460e+0]\n",
    "list2 = [-1.780e+0, 2.640e-1, 1.160e+0, 9.080e-1, 1.780e+0, 1.080e+0, 1.050e+0, -4.630e-2, 1.520e+0, 5.350e-1]\n",
    "# the variances of both lists should be relatively close to 1 (off by less than .15)\n",
    "\n",
    "# Use def variance & use calcs listed below to produce variance\n",
    "def variance(values):\n",
    "    # Calculate the mean of the values\n",
    "    mean = sum(values) / len(values)\n",
    "    \n",
    "    # Subtract the mean from every element and square the result\n",
    "    squared_differences = [(x - mean) ** 2 for x in values]\n",
    "    \n",
    "    # Sum the squared differences and divide by N\n",
    "    variance = sum(squared_differences) / len(values)\n",
    "    \n",
    "    return variance\n",
    "\n",
    "# Calculate the variances\n",
    "variance1 = variance(list1)\n",
    "variance2 = variance(list2)\n",
    "\n",
    "# Printing the results\n",
    "print(f\"The variance of list1 is: {variance1}\")\n",
    "print(f\"The variance of list2 is: {variance2}\")"
   ]
  },
  {
   "cell_type": "markdown",
   "metadata": {},
   "source": [
    "6. Create a list with at least 15 elements in it. Use list slicing to print the following:\n",
    "* The first 5 elements of the list\n",
    "* The last 5 elements of the list\n",
    "* The list reversed (hint, show the entire list with a stride of -1)\n",
    "* Every second element in the list\n",
    "* Every third element in the list (stride of 3)"
   ]
  },
  {
   "cell_type": "code",
   "execution_count": 15,
   "metadata": {},
   "outputs": [
    {
     "name": "stdout",
     "output_type": "stream",
     "text": [
      "The first 5 elements: [10, 20, 30, 40, 50]\n",
      "The last 5 elements: [100, 200, 300, 400, 500]\n",
      "The list reversed: [500, 400, 300, 200, 100, 90, 80, 70, 60, 50, 40, 30, 20, 10]\n",
      "Every second element: [20, 40, 60, 80, 100, 300, 500]\n",
      "Every third element: [10, 40, 70, 100, 400]\n"
     ]
    }
   ],
   "source": [
    "example_list = [10, 20, 30, 40, 50, 60, 70, 80, 90, 100, 200, 300, 400, 500]\n",
    "\n",
    "print(\"The first 5 elements:\", example_list[:5])\n",
    "\n",
    "print(\"The last 5 elements:\", example_list[-5:])\n",
    "\n",
    "print(\"The list reversed:\", example_list[::-1])\n",
    "\n",
    "print(\"Every second element:\", example_list[1::2])\n",
    "\n",
    "print(\"Every third element:\", example_list[::3])"
   ]
  },
  {
   "cell_type": "markdown",
   "metadata": {},
   "source": [
    "7. Build a dictionary that contains the following information about this class (with appropriate names as keys):\n",
    "* The name\n",
    "* The course number\n",
    "* The semester/term in which you are taking this course\n",
    "* The number of credit hours this course counts for\n",
    "* A list of the course learning objectives\n",
    "\n",
    "The majority of this information can be found in the syllabus. Print the dictionary."
   ]
  },
  {
   "cell_type": "code",
   "execution_count": 25,
   "metadata": {},
   "outputs": [
    {
     "name": "stdout",
     "output_type": "stream",
     "text": [
      "Course Facts:\n",
      "Course name: Web Mining and Applied Natural Language Processing\n",
      "Course number: 44-620\n",
      "Semester/term course taken: Spring 2024-OP2\n",
      "Course credit hours: 3 credits\n",
      "List of course learning objectives: ['L01. Manage Python libraries and packages', 'L02. Interact with Hosted Version Control Systems e.g. Git and GitHub', 'L3. Programmatically obtain and transform data from web-based APIs and HTML pages into a usable form', 'L04. Describe the steps in a basic Natural Language Processing Pipeline', 'L05. Use preexisting tools and software libraries to perform some Natural Language Processing, such as sentiment analysis.', 'L06. Explain results and conclusions drawn from the visualized information']\n"
     ]
    }
   ],
   "source": [
    "dict_course_facts = {\n",
    "    \"Course name\": \"Web Mining and Applied Natural Language Processing\",\n",
    "    \"Course number\": \"44-620\",\n",
    "    \"Semester/term course taken\": \"Spring 2024-OP2\",\n",
    "    \"Course credit hours\": \"3 credits\",\n",
    "    \"List of course learning objectives\": [\n",
    "        \"L01. Manage Python libraries and packages\",\n",
    "        \"L02. Interact with Hosted Version Control Systems e.g. Git and GitHub\",\n",
    "        \"L3. Programmatically obtain and transform data from web-based APIs and HTML pages into a usable form\",\n",
    "        \"L04. Describe the steps in a basic Natural Language Processing Pipeline\",\n",
    "        \"L05. Use preexisting tools and software libraries to perform some Natural Language Processing, such as sentiment analysis.\",\n",
    "        \"L06. Explain results and conclusions drawn from the visualized information\" \n",
    "    ]\n",
    "}\n",
    "\n",
    "print (\"Course Facts:\")\n",
    "# Organized the list for readability\n",
    "for key, value in dict_course_facts.items():\n",
    "    print (f\"{key}: {value}\")"
   ]
  },
  {
   "cell_type": "markdown",
   "metadata": {},
   "source": [
    "8.  Given the dictionary defined in the code cell below, print the list of level 3 spells the character has."
   ]
  },
  {
   "cell_type": "code",
   "execution_count": 20,
   "metadata": {},
   "outputs": [
    {
     "name": "stdout",
     "output_type": "stream",
     "text": [
      "Kitab the Cleric knows these\"Level 3 Spells:\" ['Mass Healing Word', 'Nondetection', 'Revivify', 'Feign Death', 'Speak with Dead']\n"
     ]
    }
   ],
   "source": [
    "player_character = {'name': 'Kitab',\n",
    "                   'class': [('Cleric: Knowledge', 7)],\n",
    "                   'spells': {'cantrip': ['Guidance', 'Light', 'Thaumaturgy', 'Toll the Dead', 'Word of Radiance'],\n",
    "                             'level 1': ['Command', 'Detect Magic', 'Healing Word', 'Identify', 'Sleep'],\n",
    "                             'level 2': ['Augury', 'Calm Emotions', 'Command', 'Invisibility', 'Lesser Restoration'],\n",
    "                             'level 3': ['Mass Healing Word', 'Nondetection', 'Revivify', 'Feign Death', 'Speak with Dead'],\n",
    "                             'level 4': ['Banishment', 'Confusion']}\n",
    "                   }\n",
    "\n",
    "# Print the list of level 3 spells\n",
    "print('Kitab the Cleric knows these\"Level 3 Spells:\"', player_character['spells']['level 3'])"
   ]
  },
  {
   "cell_type": "markdown",
   "metadata": {},
   "source": [
    "9. Write code to determine the number of unique elements in the list below.  You MUST use a set in finding your solution.  Print the number of unique values in the list with an appropriate label."
   ]
  },
  {
   "cell_type": "code",
   "execution_count": 22,
   "metadata": {},
   "outputs": [
    {
     "name": "stdout",
     "output_type": "stream",
     "text": [
      "Number of unique values in the list: 12\n"
     ]
    }
   ],
   "source": [
    "values = [10, 11, 10, 8, 1, 12, 0, 1, 6, 5, 5, 13, 6, 15, 0, 0, 1, 1, 9, 7]\n",
    "\n",
    "# Convert the list to a set to remove duplicates\n",
    "# Set is defined as: build an unordered collection of unique elements.\n",
    "unique_values = set(values)\n",
    "\n",
    "# Count the number of elements in the set\n",
    "unique_count = len(unique_values)\n",
    "\n",
    "# Print the result\n",
    "print(f\"Number of unique values in the list: {unique_count}\")"
   ]
  },
  {
   "cell_type": "markdown",
   "metadata": {},
   "source": [
    "10. Create a new Jupyter Notebook (the name of the notebook should be your S number). Add a Markdown cell that contains your name. Add a Code cell and write Python that uses loops to draw the following pattern:\n",
    "\n",
    "```\n",
    "*      *\n",
    "**    **\n",
    "***  ***\n",
    "********\n",
    "```\n",
    "Make sure to add and submit both the new notebook and the changes to this notebook for this assignment."
   ]
  }
 ],
 "metadata": {
  "kernelspec": {
   "display_name": "Python 3",
   "language": "python",
   "name": "python3"
  },
  "language_info": {
   "codemirror_mode": {
    "name": "ipython",
    "version": 3
   },
   "file_extension": ".py",
   "mimetype": "text/x-python",
   "name": "python",
   "nbconvert_exporter": "python",
   "pygments_lexer": "ipython3",
   "version": "3.11.3"
  }
 },
 "nbformat": 4,
 "nbformat_minor": 4
}
